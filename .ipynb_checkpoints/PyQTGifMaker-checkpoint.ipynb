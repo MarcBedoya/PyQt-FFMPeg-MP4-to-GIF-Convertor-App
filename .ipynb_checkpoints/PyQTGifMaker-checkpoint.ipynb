{
 "cells": [
  {
   "cell_type": "code",
   "execution_count": 1,
   "id": "31be55db-59f2-46f2-8458-494645719ed6",
   "metadata": {
    "tags": []
   },
   "outputs": [],
   "source": [
    "import sys\n",
    "import subprocess\n",
    "import os\n",
    "from PySide6.QtWidgets import (QApplication, QPushButton, QWidget, QMainWindow, QLabel, QHBoxLayout)\n",
    "from PySide6.QtCore import (QObject, Signal, Slot)\n",
    "import tkinter as tk\n",
    "from tkinter import filedialog\n",
    "from pathlib import Path\n",
    "\n",
    "\n",
    "class MainWindow(QMainWindow):\n",
    "    def __init__(self, *args, **kwargs):\n",
    "        super().__init__()\n",
    "        \n",
    "        self.file_path = \"\"\n",
    "        self.resolution = \"\"\n",
    "        \n",
    "        widget = QWidget()\n",
    "        self.setCentralWidget(widget)\n",
    "        \n",
    "        self.label = QLabel(\"GIF Maker\", self)\n",
    "        \n",
    "        layout = QHBoxLayout(widget)\n",
    "        self.adjustSize()\n",
    "        \n",
    "        file_button = QPushButton(text = \"Select MP4\")\n",
    "        file_button.clicked.connect(self.file_browse)\n",
    "        \n",
    "        gif_button = QPushButton(text = \"Make GIF\")\n",
    "        gif_button.clicked.connect(self.make_gif)\n",
    "        \n",
    "        layout.addWidget(file_button)\n",
    "        layout.addWidget(gif_button)\n",
    "        layout.addWidget\n",
    "        \n",
    "        self.show()\n",
    "\n",
    "    @Slot()\n",
    "    def file_browse(self):\n",
    "        root = tk.Tk()\n",
    "        root.withdraw()\n",
    "        self.file_path = filedialog.askopenfilename()\n",
    "        \n",
    "        print(self.file_path)\n",
    "\n",
    "    @Slot()\n",
    "    def make_gif(self):\n",
    "        filedir = os.path.dirname(self.file_path)\n",
    "        output_name = Path(self.file_path).stem\n",
    "        p_cmd = 'ffmpeg -i %s -filter_complex \"[0:v] palettegen\" pyqtgifpalettetemp.png -y' % (self.file_path) \n",
    "        m_cmd = 'ffmpeg -i %s.mp4 -i pyqtgifpalettetemp.png -filter_complex \"[0:v] fps=24,scale=%s:-1 [new];[new][1:v] paletteuse\" %s.gif -y' % (output_name, 1800, output_name)\n",
    "        c_cmd = 'del pyqtgifpalettetemp.png'\n",
    "        filedir = os.path.dirname(self.file_path)\n",
    "        proc1 = subprocess.Popen(p_cmd, shell=True, cwd = filedir)\n",
    "        proc1.wait()\n",
    "        proc2 = subprocess.Popen(m_cmd, shell=True, cwd = filedir)\n",
    "        proc2.wait()\n",
    "        proc3 = subprocess.Popen(c_cmd, shell=True, cwd = filedir)\n",
    "        proc3.wait()\n",
    "        print(proc2)\n",
    "\n",
    "   "
   ]
  },
  {
   "cell_type": "code",
   "execution_count": null,
   "id": "7b774ec7-5cc2-4ff6-848f-ec7b001bcc86",
   "metadata": {},
   "outputs": [
    {
     "name": "stdout",
     "output_type": "stream",
     "text": [
      "C:/Users/Marc/Pictures/Impact/metronopme/metrol.mp4\n",
      "ffmpeg -i C:/Users/Marc/Pictures/Impact/metronopme/metrol.mp4 -filter_complex \"[0:v] palettegen\" pyqtgifpalettetemp.png\n"
     ]
    }
   ],
   "source": [
    "app = QApplication(sys.argv)\n",
    "main_window = MainWindow()\n",
    "app.exec()"
   ]
  },
  {
   "cell_type": "code",
   "execution_count": null,
   "id": "7ca532c0-e8c7-4bcb-9d04-2c729c00c6c8",
   "metadata": {},
   "outputs": [],
   "source": []
  }
 ],
 "metadata": {
  "kernelspec": {
   "display_name": "Python 3 (ipykernel)",
   "language": "python",
   "name": "python3"
  },
  "language_info": {
   "codemirror_mode": {
    "name": "ipython",
    "version": 3
   },
   "file_extension": ".py",
   "mimetype": "text/x-python",
   "name": "python",
   "nbconvert_exporter": "python",
   "pygments_lexer": "ipython3",
   "version": "3.11.3"
  }
 },
 "nbformat": 4,
 "nbformat_minor": 5
}
