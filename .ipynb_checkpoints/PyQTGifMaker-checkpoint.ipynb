{
 "cells": [
  {
   "cell_type": "code",
   "execution_count": 1,
   "id": "31be55db-59f2-46f2-8458-494645719ed6",
   "metadata": {
    "tags": []
   },
   "outputs": [
    {
     "data": {
      "text/plain": [
       "0"
      ]
     },
     "execution_count": 1,
     "metadata": {},
     "output_type": "execute_result"
    }
   ],
   "source": [
    "import sys\n",
    "import subprocess\n",
    "import os\n",
    "import tkinter as tk\n",
    "from tkinter import filedialog\n",
    "from pathlib import Path\n",
    "\n",
    "#need to install\n",
    "import cv2\n",
    "from PySide6.QtWidgets import (QApplication, QPushButton, QWidget, QMainWindow, QLabel, QVBoxLayout, QComboBox)\n",
    "from PySide6.QtCore import (QObject, Signal, Slot)\n",
    "\n",
    "class MainWindow(QMainWindow):\n",
    "    def __init__(self, *args, **kwargs):\n",
    "        super().__init__()\n",
    "        \n",
    "        self.file_path = \"\"\n",
    "        self.resolution = \"\"\n",
    "        \n",
    "        self.res_select = QComboBox()\n",
    "        self.res_list = ['1:1', '1:2', '1:4', '1:8', '1:16', '1:32', '1:64?', '1:128??', '1:256...', '1:512. Really?']\n",
    "        self.res_select.addItems(self.res_list)\n",
    "                    \n",
    "        widget = QWidget()\n",
    "        widget.setFixedSize (500,150)\n",
    "        widget.setWindowTitle('GIF Maker')\n",
    "        self.setCentralWidget(widget)\n",
    "        \n",
    "        self.label = QLabel(\"GIF Maker\")\n",
    "        self.label2 = QLabel(\"Select resolution ratio\")\n",
    "        \n",
    "        layout = QVBoxLayout(widget)\n",
    "        self.adjustSize()\n",
    "        \n",
    "        file_button = QPushButton(text = 'Select MP4')\n",
    "        file_button.clicked.connect(self.file_browse)\n",
    "        \n",
    "        gif_button = QPushButton(text = 'Make GIF')\n",
    "        gif_button.clicked.connect(self.make_gif)\n",
    "        \n",
    "        layout.addWidget(self.label)\n",
    "        layout.addWidget(file_button)\n",
    "        layout.addWidget(self.label2)\n",
    "        layout.addWidget(self.res_select)\n",
    "        layout.addWidget(gif_button)\n",
    "        \n",
    "        self.show()\n",
    "\n",
    "    @Slot()\n",
    "    def file_browse(self):\n",
    "        root = tk.Tk()\n",
    "        root.withdraw()\n",
    "        self.file_path = filedialog.askopenfilename()\n",
    "        \n",
    "        print(self.file_path)\n",
    "\n",
    "    @Slot()\n",
    "    def make_gif(self):\n",
    "        filedir = os.path.dirname(self.file_path)\n",
    "        output_name = Path(self.file_path).stem\n",
    "        res_select = pow(2, self.res_select.currentIndex())\n",
    "        res_w = cv2.VideoCapture(self.file_path).get(cv2.CAP_PROP_FRAME_WIDTH)\n",
    "        resolution = res_w/res_select\n",
    "        p_cmd = 'ffmpeg -i %s -filter_complex \"[0:v] palettegen\" pyqtgifpalettetemp.png -y' % (self.file_path) \n",
    "        m_cmd = 'ffmpeg -i %s.mp4 -i pyqtgifpalettetemp.png -filter_complex \"[0:v] fps=24,scale=%s:-1 [new];[new][1:v] paletteuse\" %s.gif -y' % (output_name, resolution, output_name)\n",
    "        c_cmd = 'del pyqtgifpalettetemp.png'\n",
    "        filedir = os.path.dirname(self.file_path)\n",
    "        proc1 = subprocess.Popen(p_cmd, shell=True, cwd = filedir)\n",
    "        proc1.wait()\n",
    "        proc2 = subprocess.Popen(m_cmd, shell=True, cwd = filedir)\n",
    "        proc2.wait()\n",
    "        proc3 = subprocess.Popen(c_cmd, shell=True, cwd = filedir)\n",
    "        proc3.wait()\n",
    "        print(proc2)\n",
    "\n",
    "app = QApplication(sys.argv)\n",
    "main_window = MainWindow()\n",
    "app.exec()"
   ]
  },
  {
   "cell_type": "code",
   "execution_count": null,
   "id": "88449f1b-91a8-4ffe-ad5c-fe6684958a01",
   "metadata": {},
   "outputs": [],
   "source": []
  }
 ],
 "metadata": {
  "kernelspec": {
   "display_name": "Python 3 (ipykernel)",
   "language": "python",
   "name": "python3"
  },
  "language_info": {
   "codemirror_mode": {
    "name": "ipython",
    "version": 3
   },
   "file_extension": ".py",
   "mimetype": "text/x-python",
   "name": "python",
   "nbconvert_exporter": "python",
   "pygments_lexer": "ipython3",
   "version": "3.11.3"
  }
 },
 "nbformat": 4,
 "nbformat_minor": 5
}
